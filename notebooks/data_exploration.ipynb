{
 "cells": [
  {
   "cell_type": "markdown",
   "metadata": {},
   "source": [
    "# Car Rental Data Exploration\n",
    "\n",
    "This notebook explores the car rental datasets to understand their structure and content before processing them with Spark on EMR."
   ]
  },
  {
   "cell_type": "code",
   "execution_count": null,
   "metadata": {},
   "source": [
    "import pandas as pd\n",
    "import matplotlib.pyplot as plt\n",
    "import seaborn as sns\n",
    "import os\n",
    "\n",
    "# Set plot style\n",
    "plt.style.use('ggplot')\n",
    "sns.set(style=\"whitegrid\")\n",
    "\n",
    "# Configure pandas display options\n",
    "pd.set_option('display.max_columns', None)\n",
    "pd.set_option('display.max_rows', 20)\n",
    "pd.set_option('display.width', 1000)"
   ]
  },
  {
   "cell_type": "markdown",
   "metadata": {},
   "source": [
    "## Load the Datasets\n",
    "\n",
    "Let's load the four datasets: vehicles, users, locations, and rental transactions."
   ]
  },
  {
   "cell_type": "code",
   "execution_count": null,
   "metadata": {},
   "source": [
    "# Define the data directory\n",
    "data_dir = '../data'\n",
    "\n",
    "# Load the datasets\n",
    "vehicles_df = pd.read_csv(os.path.join(data_dir, 'vehicles.csv'))\n",
    "users_df = pd.read_csv(os.path.join(data_dir, 'users.csv'))\n",
    "locations_df = pd.read_csv(os.path.join(data_dir, 'locations.csv'))\n",
    "transactions_df = pd.read_csv(os.path.join(data_dir, 'rental_transactions.csv'))\n",
    "\n",
    "print(f\"Vehicles dataset shape: {vehicles_df.shape}\")\n",
    "print(f\"Users dataset shape: {users_df.shape}\")\n",
    "print(f\"Locations dataset shape: {locations_df.shape}\")\n",
    "print(f\"Rental transactions dataset shape: {transactions_df.shape}\")"
   ]
  },
  {
   "cell_type": "markdown",
   "metadata": {},
   "source": [
    "## Explore the Vehicles Dataset"
   ]
  },
  {
   "cell_type": "code",
   "execution_count": null,
   "metadata": {},
   "source": [
    "# Display the first few rows of the vehicles dataset\n",
    "vehicles_df.head()"
   ]
  },
  {
   "cell_type": "code",
   "execution_count": null,
   "metadata": {},
   "source": [
    "# Check for missing values\n",
    "vehicles_df.isnull().sum()"
   ]
  },
  {
   "cell_type": "code",
   "execution_count": null,
   "metadata": {},
   "source": [
    "# Analyze vehicle types\n",
    "vehicle_type_counts = vehicles_df['vehicle_type'].value_counts()\n",
    "print(vehicle_type_counts)\n",
    "\n",
    "# Plot vehicle types\n",
    "plt.figure(figsize=(10, 6))\n",
    "vehicle_type_counts.plot(kind='bar')\n",
    "plt.title('Vehicle Types Distribution')\n",
    "plt.xlabel('Vehicle Type')\n",
    "plt.ylabel('Count')\n",
    "plt.xticks(rotation=45)\n",
    "plt.tight_layout()\n",
    "plt.show()"
   ]
  },
  {
   "cell_type": "code",
   "execution_count": null,
   "metadata": {},
   "source": [
    "# Analyze vehicle brands\n",
    "brand_counts = vehicles_df['brand'].value_counts().head(10)\n",
    "print(brand_counts)\n",
    "\n",
    "# Plot top 10 vehicle brands\n",
    "plt.figure(figsize=(12, 6))\n",
    "brand_counts.plot(kind='bar')\n",
    "plt.title('Top 10 Vehicle Brands')\n",
    "plt.xlabel('Brand')\n",
    "plt.ylabel('Count')\n",
    "plt.xticks(rotation=45)\n",
    "plt.tight_layout()\n",
    "plt.show()"
   ]
  },
  {
   "cell_type": "markdown",
   "metadata": {},
   "source": [
    "## Explore the Users Dataset"
   ]
  },
  {
   "cell_type": "code",
   "execution_count": null,
   "metadata": {},
   "source": [
    "# Display the first few rows of the users dataset\n",
    "users_df.head()"
   ]
  },
  {
   "cell_type": "code",
   "execution_count": null,
   "metadata": {},
   "source": [
    "# Check for missing values\n",
    "users_df.isnull().sum()"
   ]
  },
  {
   "cell_type": "code",
   "execution_count": null,
   "metadata": {},
   "source": [
    "# Analyze active users\n",
    "active_users_count = users_df['is_active'].value_counts()\n",
    "print(active_users_count)\n",
    "\n",
    "# Plot active users\n",
    "plt.figure(figsize=(8, 6))\n",
    "active_users_count.plot(kind='pie', autopct='%1.1f%%')\n",
    "plt.title('Active vs. Inactive Users')\n",
    "plt.ylabel('')\n",
    "plt.tight_layout()\n",
    "plt.show()"
   ]
  },
  {
   "cell_type": "code",
   "execution_count": null,
   "metadata": {},
   "source": [
    "# Convert creation_date to datetime\n",
    "users_df['creation_date'] = pd.to_datetime(users_df['creation_date'])\n",
    "\n",
    "# Analyze user sign-ups by month\n",
    "users_df['signup_month'] = users_df['creation_date'].dt.to_period('M')\n",
    "signup_by_month = users_df.groupby('signup_month').size()\n",
    "\n",
    "# Plot user sign-ups by month\n",
    "plt.figure(figsize=(12, 6))\n",
    "signup_by_month.plot(kind='line', marker='o')\n",
    "plt.title('User Sign-ups by Month')\n",
    "plt.xlabel('Month')\n",
    "plt.ylabel('Number of Sign-ups')\n",
    "plt.grid(True)\n",
    "plt.tight_layout()\n",
    "plt.show()"
   ]
  },
  {
   "cell_type": "markdown",
   "metadata": {},
   "source": [
    "## Explore the Locations Dataset"
   ]
  },
  {
   "cell_type": "code",
   "execution_count": null,
   "metadata": {},
   "source": [
    "# Display the first few rows of the locations dataset\n",
    "locations_df.head()"
   ]
  },
  {
   "cell_type": "code",
   "execution_count": null,
   "metadata": {},
   "source": [
    "# Check for missing values\n",
    "locations_df.isnull().sum()"
   ]
  },
  {
   "cell_type": "code",
   "execution_count": null,
   "metadata": {},
   "source": [
    "# Analyze locations by state\n",
    "locations_by_state = locations_df['state'].value_counts()\n",
    "print(locations_by_state)\n",
    "\n",
    "# Plot locations by state\n",
    "plt.figure(figsize=(12, 6))\n",
    "locations_by_state.plot(kind='bar')\n",
    "plt.title('Locations by State')\n",
    "plt.xlabel('State')\n",
    "plt.ylabel('Number of Locations')\n",
    "plt.xticks(rotation=45)\n",
    "plt.tight_layout()\n",
    "plt.show()"
   ]
  },
  {
   "cell_type": "code",
   "execution_count": null,
   "metadata": {},
   "source": [
    "# Analyze locations by city (top 10)\n",
    "locations_by_city = locations_df['city'].value_counts().head(10)\n",
    "print(locations_by_city)\n",
    "\n",
    "# Plot top 10 cities by number of locations\n",
    "plt.figure(figsize=(12, 6))\n",
    "locations_by_city.plot(kind='bar')\n",
    "plt.title('Top 10 Cities by Number of Locations')\n",
    "plt.xlabel('City')\n",
    "plt.ylabel('Number of Locations')\n",
    "plt.xticks(rotation=45)\n",
    "plt.tight_layout()\n",
    "plt.show()"
   ]
  },
  {
   "cell_type": "markdown",
   "metadata": {},
   "source": [
    "## Explore the Rental Transactions Dataset"
   ]
  },
  {
   "cell_type": "code",
   "execution_count": null,
   "metadata": {},
   "source": [
    "# Display the first few rows of the rental transactions dataset\n",
    "transactions_df.head()"
   ]
  },
  {
   "cell_type": "code",
   "execution_count": null,
   "metadata": {},
   "source": [
    "# Check for missing values\n",
    "transactions_df.isnull().sum()"
   ]
  },
  {
   "cell_type": "code",
   "execution_count": null,
   "metadata": {},
   "source": [
    "# Convert rental start and end times to datetime\n",
    "transactions_df['rental_start_time'] = pd.to_datetime(transactions_df['rental_start_time'])\n",
    "transactions_df['rental_end_time'] = pd.to_datetime(transactions_df['rental_end_time'])\n",
    "\n",
    "# Calculate rental duration in hours\n",
    "transactions_df['rental_duration_hours'] = (transactions_df['rental_end_time'] - transactions_df['rental_start_time']).dt.total_seconds() / 3600\n",
    "\n",
    "# Display summary statistics for rental duration and total amount\n",
    "print(\"Rental Duration (hours) Statistics:\")\n",
    "print(transactions_df['rental_duration_hours'].describe())\n",
    "print(\"\\nTotal Amount Statistics:\")\n",
    "print(transactions_df['total_amount'].describe())"
   ]
  },
  {
   "cell_type": "code",
   "execution_count": null,
   "metadata": {},
   "source": [
    "# Analyze transactions by day of week\n",
    "transactions_df['day_of_week'] = transactions_df['rental_start_time'].dt.day_name()\n",
    "day_order = ['Monday', 'Tuesday', 'Wednesday', 'Thursday', 'Friday', 'Saturday', 'Sunday']\n",
    "transactions_by_day = transactions_df['day_of_week'].value_counts().reindex(day_order)\n",
    "\n",
    "# Plot transactions by day of week\n",
    "plt.figure(figsize=(12, 6))\n",
    "transactions_by_day.plot(kind='bar')\n",
    "plt.title('Rental Transactions by Day of Week')\n",
    "plt.xlabel('Day of Week')\n",
    "plt.ylabel('Number of Transactions')\n",
    "plt.tight_layout()\n",
    "plt.show()"
   ]
  },
  {
   "cell_type": "code",
   "execution_count": null,
   "metadata": {},
   "source": [
    "# Analyze transactions by hour of day\n",
    "transactions_df['hour_of_day'] = transactions_df['rental_start_time'].dt.hour\n",
    "transactions_by_hour = transactions_df.groupby('hour_of_day').size()\n",
    "\n",
    "# Plot transactions by hour of day\n",
    "plt.figure(figsize=(12, 6))\n",
    "transactions_by_hour.plot(kind='line', marker='o')\n",
    "plt.title('Rental Transactions by Hour of Day')\n",
    "plt.xlabel('Hour of Day')\n",
    "plt.ylabel('Number of Transactions')\n",
    "plt.xticks(range(0, 24))\n",
    "plt.grid(True)\n",
    "plt.tight_layout()\n",
    "plt.show()"
   ]
  },
  {
   "cell_type": "code",
   "execution_count": null,
   "metadata": {},
   "source": [
    "# Analyze distribution of total amount\n",
    "plt.figure(figsize=(12, 6))\n",
    "sns.histplot(transactions_df['total_amount'], bins=30, kde=True)\n",
    "plt.title('Distribution of Rental Transaction Amounts')\n",
    "plt.xlabel('Total Amount ($)')\n",
    "plt.ylabel('Frequency')\n",
    "plt.grid(True)\n",
    "plt.tight_layout()\n",
    "plt.show()"
   ]
  },
  {
   "cell_type": "code",
   "execution_count": null,
   "metadata": {},
   "source": [
    "# Analyze relationship between rental duration and total amount\n",
    "plt.figure(figsize=(12, 6))\n",
    "sns.scatterplot(x='rental_duration_hours', y='total_amount', data=transactions_df, alpha=0.5)\n",
    "plt.title('Relationship Between Rental Duration and Total Amount')\n",
    "plt.xlabel('Rental Duration (hours)')\n",
    "plt.ylabel('Total Amount ($)')\n",
    "plt.grid(True)\n",
    "plt.tight_layout()\n",
    "plt.show()"
   ]
  },
  {
   "cell_type": "markdown",
   "metadata": {},
   "source": [
    "## Cross-Dataset Analysis"
   ]
  },
  {
   "cell_type": "code",
   "execution_count": null,
   "metadata": {},
   "source": [
    "# Merge transactions with vehicles to analyze by vehicle type\n",
    "transactions_vehicles = pd.merge(transactions_df, vehicles_df[['vehicle_id', 'brand', 'vehicle_type']], on='vehicle_id', how='inner')\n",
    "\n",
    "# Analyze average transaction amount by vehicle type\n",
    "avg_amount_by_vehicle_type = transactions_vehicles.groupby('vehicle_type')['total_amount'].mean().sort_values(ascending=False)\n",
    "print(avg_amount_by_vehicle_type)\n",
    "\n",
    "# Plot average transaction amount by vehicle type\n",
    "plt.figure(figsize=(12, 6))\n",
    "avg_amount_by_vehicle_type.plot(kind='bar')\n",
    "plt.title('Average Transaction Amount by Vehicle Type')\n",
    "plt.xlabel('Vehicle Type')\n",
    "plt.ylabel('Average Amount ($)')\n",
    "plt.xticks(rotation=45)\n",
    "plt.tight_layout()\n",
    "plt.show()"
   ]
  },
  {
   "cell_type": "code",
   "execution_count": null,
   "metadata": {},
   "source": [
    "# Analyze top 10 pickup locations by transaction count\n",
    "top_pickup_locations = transactions_df['pickup_location'].value_counts().head(10)\n",
    "top_pickup_locations_df = pd.DataFrame({'location_id': top_pickup_locations.index, 'transaction_count': top_pickup_locations.values})\n",
    "top_pickup_locations_with_info = pd.merge(top_pickup_locations_df, locations_df, on='location_id', how='inner')\n",
    "print(top_pickup_locations_with_info[['location_id', 'location_name', 'city', 'state', 'transaction_count']])\n",
    "\n",
    "# Plot top 10 pickup locations\n",
    "plt.figure(figsize=(14, 6))\n",
    "sns.barplot(x='location_name', y='transaction_count', data=top_pickup_locations_with_info)\n",
    "plt.title('Top 10 Pickup Locations by Transaction Count')\n",
    "plt.xlabel('Location Name')\n",
    "plt.ylabel('Number of Transactions')\n",
    "plt.xticks(rotation=45, ha='right')\n",
    "plt.tight_layout()\n",
    "plt.show()"
   ]
  },
  {
   "cell_type": "code",
   "execution_count": null,
   "metadata": {},
   "source": [
    "# Analyze top 10 users by number of transactions\n",
    "top_users = transactions_df['user_id'].value_counts().head(10)\n",
    "top_users_df = pd.DataFrame({'user_id': top_users.index, 'transaction_count': top_users.values})\n",
    "top_users_with_info = pd.merge(top_users_df, users_df, on='user_id', how='inner')\n",
    "print(top_users_with_info[['user_id', 'first_name', 'last_name', 'transaction_count']])\n",
    "\n",
    "# Calculate total spending for top users\n",
    "top_user_spending = transactions_df[transactions_df['user_id'].isin(top_users.index)].groupby('user_id')['total_amount'].sum().reset_index()\n",
    "top_users_complete = pd.merge(top_users_with_info, top_user_spending, on='user_id', how='inner')\n",
    "\n",
    "# Plot top 10 users by total spending\n",
    "plt.figure(figsize=(14, 6))\n",
    "sns.barplot(x='user_id', y='total_amount', data=top_users_complete)\n",
    "plt.title('Top 10 Users by Total Spending')\n",
    "plt.xlabel('User ID')\n",
    "plt.ylabel('Total Spending ($)')\n",
    "plt.xticks(rotation=45, ha='right')\n",
    "plt.tight_layout()\n",
    "plt.show()"
   ]
  },
  {
   "cell_type": "markdown",
   "metadata": {},
   "source": [
    "## Summary of Findings\n",
    "\n",
    "Based on the exploratory data analysis, here are some key findings:\n",
    "\n",
    "1. Vehicle distribution by type and brand\n",
    "2. User activity patterns and sign-up trends\n",
    "3. Geographic distribution of rental locations\n",
    "4. Temporal patterns in rental transactions (day of week, hour of day)\n",
    "5. Relationship between rental duration and transaction amount\n",
    "6. Performance metrics by vehicle type\n",
    "7. Top performing locations and users\n",
    "\n",
    "These insights will guide our Spark jobs on EMR to extract meaningful business metrics from the data."
   ]
  }
 ],
 "metadata": {
  "kernelspec": {
   "display_name": "Python 3",
   "language": "python",
   "name": "python3"
  },
  "language_info": {
   "codemirror_mode": {
    "name": "ipython",
    "version": 3
   },
   "file_extension": ".py",
   "mimetype": "text/x-python",
   "name": "python",
   "nbconvert_exporter": "python",
   "pygments_lexer": "ipython3",
   "version": "3.8.10"
  }
 },
 "nbformat": 4,
 "nbformat_minor": 4
}
