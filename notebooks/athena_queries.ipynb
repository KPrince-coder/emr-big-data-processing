{
 "cells": [
  {
   "cell_type": "markdown",
   "metadata": {},
   "source": [
    "# Analyzing Car Rental Data with Amazon Athena\n",
    "\n",
    "This notebook demonstrates how to use Amazon Athena to query the processed car rental data that has been cataloged by AWS Glue."
   ]
  },
  {
   "cell_type": "code",
   "execution_count": null,
   "metadata": {},
   "source": [
    "import boto3\n",
    "import pandas as pd\n",
    "import matplotlib.pyplot as plt\n",
    "import seaborn as sns\n",
    "import time\n",
    "import os\n",
    "import sys\n",
    "\n",
    "# Add the project root directory to the Python path\n",
    "sys.path.append('..')\n",
    "\n",
    "# Import project configuration\n",
    "from config.aws_config import GLUE_CONFIG, S3_CONFIG, AWS_REGION\n",
    "\n",
    "# Set plot style\n",
    "plt.style.use('ggplot')\n",
    "sns.set(style=\"whitegrid\")\n",
    "\n",
    "# Configure pandas display options\n",
    "pd.set_option('display.max_columns', None)\n",
    "pd.set_option('display.max_rows', 20)\n",
    "pd.set_option('display.width', 1000)"
   ]
  },
  {
   "cell_type": "markdown",
   "metadata": {},
   "source": [
    "## Set Up Athena Client"
   ]
  },
  {
   "cell_type": "code",
   "execution_count": null,
   "metadata": {},
   "source": [
    "def run_athena_query(query, database, s3_output):\n",
    "    \"\"\"\n",
    "    Run a query on Athena and return the results as a pandas DataFrame.\n",
    "    \n",
    "    Args:\n",
    "        query (str): The SQL query to run\n",
    "        database (str): The Athena database to query\n",
    "        s3_output (str): The S3 location to store query results\n",
    "        \n",
    "    Returns:\n",
    "        DataFrame: The query results as a pandas DataFrame\n",
    "    \"\"\"\n",
    "    athena_client = boto3.client('athena', region_name=AWS_REGION)\n",
    "    s3_client = boto3.client('s3', region_name=AWS_REGION)\n",
    "    \n",
    "    # Start the query execution\n",
    "    response = athena_client.start_query_execution(\n",
    "        QueryString=query,\n",
    "        QueryExecutionContext={\n",
    "            'Database': database\n",
    "        },\n",
    "        ResultConfiguration={\n",
    "            'OutputLocation': s3_output\n",
    "        }\n",
    "    )\n",
    "    \n",
    "    query_execution_id = response['QueryExecutionId']\n",
    "    print(f\"Query execution ID: {query_execution_id}\")\n",
    "    \n",
    "    # Wait for the query to complete\n",
    "    state = 'RUNNING'\n",
    "    while state in ['RUNNING', 'QUEUED']:\n",
    "        response = athena_client.get_query_execution(QueryExecutionId=query_execution_id)\n",
    "        state = response['QueryExecution']['Status']['State']\n",
    "        \n",
    "        if state in ['RUNNING', 'QUEUED']:\n",
    "            print(f\"Query is {state}. Waiting...\")\n",
    "            time.sleep(5)\n",
    "    \n",
    "    # Check if the query succeeded\n",
    "    if state == 'SUCCEEDED':\n",
    "        print(\"Query succeeded!\")\n",
    "        \n",
    "        # Get the results\n",
    "        result_file = f\"{s3_output.rstrip('/')}/{query_execution_id}.csv\"\n",
    "        bucket_name = result_file.split('//')[1].split('/')[0]\n",
    "        key = '/'.join(result_file.split('//')[1].split('/')[1:])\n",
    "        \n",
    "        # Download the results\n",
    "        local_file = 'athena_query_result.csv'\n",
    "        s3_client.download_file(bucket_name, key, local_file)\n",
    "        \n",
    "        # Load the results into a DataFrame\n",
    "        df = pd.read_csv(local_file)\n",
    "        \n",
    "        # Clean up the local file\n",
    "        os.remove(local_file)\n",
    "        \n",
    "        return df\n",
    "    else:\n",
    "        error_message = response['QueryExecution']['Status'].get('StateChangeReason', 'Unknown error')\n",
    "        print(f\"Query failed: {error_message}\")\n",
    "        return None\n",
    "\n",
    "# Set up Athena query parameters\n",
    "database_name = GLUE_CONFIG['database_name']\n",
    "s3_output = f\"s3://{S3_CONFIG['bucket_name']}/{S3_CONFIG['temp_data_prefix']}athena_results/\""
   ]
  },
  {
   "cell_type": "markdown",
   "metadata": {},
   "source": [
    "## Query 1: Highest Revenue-Generating Locations"
   ]
  },
  {
   "cell_type": "code",
   "execution_count": null,
   "metadata": {},
   "source": [
    "query1 = \"\"\"\n",
    "SELECT \n",
    "    location_id, \n",
    "    location_name, \n",
    "    city, \n",
    "    state, \n",
    "    total_revenue\n",
    "FROM \n",
    "    location_metrics\n",
    "ORDER BY \n",
    "    total_revenue DESC\n",
    "LIMIT 10\n",
    "\"\"\"\n",
    "\n",
    "top_revenue_locations = run_athena_query(query1, database_name, s3_output)\n",
    "top_revenue_locations"
   ]
  },
  {
   "cell_type": "code",
   "execution_count": null,
   "metadata": {},
   "source": [
    "# Visualize top revenue-generating locations\n",
    "plt.figure(figsize=(14, 6))\n",
    "sns.barplot(x='location_name', y='total_revenue', data=top_revenue_locations)\n",
    "plt.title('Top 10 Revenue-Generating Locations')\n",
    "plt.xlabel('Location')\n",
    "plt.ylabel('Total Revenue ($)')\n",
    "plt.xticks(rotation=45, ha='right')\n",
    "plt.tight_layout()\n",
    "plt.show()"
   ]
  },
  {
   "cell_type": "markdown",
   "metadata": {},
   "source": [
    "## Query 2: Most Rented Vehicle Types"
   ]
  },
  {
   "cell_type": "code",
   "execution_count": null,
   "metadata": {},
   "source": [
    "query2 = \"\"\"\n",
    "SELECT \n",
    "    vehicle_type, \n",
    "    total_rentals, \n",
    "    total_revenue, \n",
    "    avg_rental_amount,\n",
    "    avg_rental_duration_hours\n",
    "FROM \n",
    "    vehicle_type_metrics\n",
    "ORDER BY \n",
    "    total_rentals DESC\n",
    "\"\"\"\n",
    "\n",
    "vehicle_type_rentals = run_athena_query(query2, database_name, s3_output)\n",
    "vehicle_type_rentals"
   ]
  },
  {
   "cell_type": "code",
   "execution_count": null,
   "metadata": {},
   "source": [
    "# Visualize vehicle type rentals\n",
    "plt.figure(figsize=(14, 6))\n",
    "sns.barplot(x='vehicle_type', y='total_rentals', data=vehicle_type_rentals)\n",
    "plt.title('Total Rentals by Vehicle Type')\n",
    "plt.xlabel('Vehicle Type')\n",
    "plt.ylabel('Total Rentals')\n",
    "plt.xticks(rotation=45)\n",
    "plt.tight_layout()\n",
    "plt.show()\n",
    "\n",
    "# Visualize average rental amount by vehicle type\n",
    "plt.figure(figsize=(14, 6))\n",
    "sns.barplot(x='vehicle_type', y='avg_rental_amount', data=vehicle_type_rentals)\n",
    "plt.title('Average Rental Amount by Vehicle Type')\n",
    "plt.xlabel('Vehicle Type')\n",
    "plt.ylabel('Average Rental Amount ($)')\n",
    "plt.xticks(rotation=45)\n",
    "plt.tight_layout()\n",
    "plt.show()"
   ]
  },
  {
   "cell_type": "markdown",
   "metadata": {},
   "source": [
    "## Query 3: Top-Spending Users"
   ]
  },
  {
   "cell_type": "code",
   "execution_count": null,
   "metadata": {},
   "source": [
    "query3 = \"\"\"\n",
    "SELECT \n",
    "    user_id, \n",
    "    first_name, \n",
    "    last_name, \n",
    "    total_spent, \n",
    "    total_rentals, \n",
    "    avg_rental_amount,\n",
    "    spending_category\n",
    "FROM \n",
    "    user_metrics\n",
    "WHERE \n",
    "    spending_category = 'Top Spender'\n",
    "ORDER BY \n",
    "    total_spent DESC\n",
    "LIMIT 20\n",
    "\"\"\"\n",
    "\n",
    "top_spending_users = run_athena_query(query3, database_name, s3_output)\n",
    "top_spending_users"
   ]
  },
  {
   "cell_type": "code",
   "execution_count": null,
   "metadata": {},
   "source": [
    "# Visualize top spending users\n",
    "plt.figure(figsize=(14, 6))\n",
    "sns.barplot(x='user_id', y='total_spent', data=top_spending_users.head(10))\n",
    "plt.title('Top 10 Spending Users')\n",
    "plt.xlabel('User ID')\n",
    "plt.ylabel('Total Spent ($)')\n",
    "plt.xticks(rotation=45, ha='right')\n",
    "plt.tight_layout()\n",
    "plt.show()"
   ]
  },
  {
   "cell_type": "markdown",
   "metadata": {},
   "source": [
    "## Query 4: Daily Transaction Trends"
   ]
  },
  {
   "cell_type": "code",
   "execution_count": null,
   "metadata": {},
   "source": [
    "query4 = \"\"\"\n",
    "SELECT \n",
    "    rental_date, \n",
    "    total_transactions, \n",
    "    total_revenue, \n",
    "    avg_transaction_amount,\n",
    "    unique_users\n",
    "FROM \n",
    "    daily_metrics\n",
    "ORDER BY \n",
    "    rental_date\n",
    "\"\"\"\n",
    "\n",
    "daily_trends = run_athena_query(query4, database_name, s3_output)\n",
    "daily_trends"
   ]
  },
  {
   "cell_type": "code",
   "execution_count": null,
   "metadata": {},
   "source": [
    "# Convert rental_date to datetime\n",
    "daily_trends['rental_date'] = pd.to_datetime(daily_trends['rental_date'])\n",
    "\n",
    "# Visualize daily transaction trends\n",
    "plt.figure(figsize=(14, 6))\n",
    "plt.plot(daily_trends['rental_date'], daily_trends['total_transactions'], marker='o', linestyle='-')\n",
    "plt.title('Daily Transaction Trends')\n",
    "plt.xlabel('Date')\n",
    "plt.ylabel('Total Transactions')\n",
    "plt.grid(True)\n",
    "plt.tight_layout()\n",
    "plt.show()\n",
    "\n",
    "# Visualize daily revenue trends\n",
    "plt.figure(figsize=(14, 6))\n",
    "plt.plot(daily_trends['rental_date'], daily_trends['total_revenue'], marker='o', linestyle='-', color='green')\n",
    "plt.title('Daily Revenue Trends')\n",
    "plt.xlabel('Date')\n",
    "plt.ylabel('Total Revenue ($)')\n",
    "plt.grid(True)\n",
    "plt.tight_layout()\n",
    "plt.show()"
   ]
  },
  {
   "cell_type": "markdown",
   "metadata": {},
   "source": [
    "## Query 5: Transaction Patterns by Hour of Day"
   ]
  },
  {
   "cell_type": "code",
   "execution_count": null,
   "metadata": {},
   "source": [
    "query5 = \"\"\"\n",
    "SELECT \n",
    "    hour_of_day, \n",
    "    total_transactions, \n",
    "    total_revenue, \n",
    "    avg_transaction_amount\n",
    "FROM \n",
    "    hourly_metrics\n",
    "ORDER BY \n",
    "    hour_of_day\n",
    "\"\"\"\n",
    "\n",
    "hourly_patterns = run_athena_query(query5, database_name, s3_output)\n",
    "hourly_patterns"
   ]
  },
  {
   "cell_type": "code",
   "execution_count": null,
   "metadata": {},
   "source": [
    "# Visualize hourly transaction patterns\n",
    "plt.figure(figsize=(14, 6))\n",
    "plt.plot(hourly_patterns['hour_of_day'], hourly_patterns['total_transactions'], marker='o', linestyle='-')\n",
    "plt.title('Transaction Patterns by Hour of Day')\n",
    "plt.xlabel('Hour of Day')\n",
    "plt.ylabel('Total Transactions')\n",
    "plt.xticks(range(0, 24))\n",
    "plt.grid(True)\n",
    "plt.tight_layout()\n",
    "plt.show()"
   ]
  },
  {
   "cell_type": "markdown",
   "metadata": {},
   "source": [
    "## Query 6: Transaction Patterns by Day of Week"
   ]
  },
  {
   "cell_type": "code",
   "execution_count": null,
   "metadata": {},
   "source": [
    "query6 = \"\"\"\n",
    "SELECT \n",
    "    day_of_week, \n",
    "    total_transactions, \n",
    "    total_revenue, \n",
    "    avg_transaction_amount\n",
    "FROM \n",
    "    day_of_week_metrics\n",
    "ORDER BY \n",
    "    day_of_week\n",
    "\"\"\"\n",
    "\n",
    "day_of_week_patterns = run_athena_query(query6, database_name, s3_output)\n",
    "day_of_week_patterns"
   ]
  },
  {
   "cell_type": "code",
   "execution_count": null,
   "metadata": {},
   "source": [
    "# Map day_of_week numbers to names\n",
    "day_names = {1: 'Monday', 2: 'Tuesday', 3: 'Wednesday', 4: 'Thursday', 5: 'Friday', 6: 'Saturday', 7: 'Sunday'}\n",
    "day_of_week_patterns['day_name'] = day_of_week_patterns['day_of_week'].map(day_names)\n",
    "\n",
    "# Visualize day of week transaction patterns\n",
    "plt.figure(figsize=(14, 6))\n",
    "sns.barplot(x='day_name', y='total_transactions', data=day_of_week_patterns)\n",
    "plt.title('Transaction Patterns by Day of Week')\n",
    "plt.xlabel('Day of Week')\n",
    "plt.ylabel('Total Transactions')\n",
    "plt.tight_layout()\n",
    "plt.show()"
   ]
  },
  {
   "cell_type": "markdown",
   "metadata": {},
   "source": [
    "## Query 7: Brand Performance Analysis"
   ]
  },
  {
   "cell_type": "code",
   "execution_count": null,
   "metadata": {},
   "source": [
    "query7 = \"\"\"\n",
    "SELECT \n",
    "    brand, \n",
    "    total_rentals, \n",
    "    total_revenue, \n",
    "    avg_rental_amount,\n",
    "    unique_vehicles\n",
    "FROM \n",
    "    brand_metrics\n",
    "ORDER BY \n",
    "    total_revenue DESC\n",
    "LIMIT 15\n",
    "\"\"\"\n",
    "\n",
    "brand_performance = run_athena_query(query7, database_name, s3_output)\n",
    "brand_performance"
   ]
  },
  {
   "cell_type": "code",
   "execution_count": null,
   "metadata": {},
   "source": [
    "# Visualize brand performance by total revenue\n",
    "plt.figure(figsize=(14, 6))\n",
    "sns.barplot(x='brand', y='total_revenue', data=brand_performance.head(10))\n",
    "plt.title('Top 10 Brands by Total Revenue')\n",
    "plt.xlabel('Brand')\n",
    "plt.ylabel('Total Revenue ($)')\n",
    "plt.xticks(rotation=45, ha='right')\n",
    "plt.tight_layout()\n",
    "plt.show()\n",
    "\n",
    "# Visualize brand performance by average rental amount\n",
    "plt.figure(figsize=(14, 6))\n",
    "sns.barplot(x='brand', y='avg_rental_amount', data=brand_performance.head(10))\n",
    "plt.title('Top 10 Brands by Average Rental Amount')\n",
    "plt.xlabel('Brand')\n",
    "plt.ylabel('Average Rental Amount ($)')\n",
    "plt.xticks(rotation=45, ha='right')\n",
    "plt.tight_layout()\n",
    "plt.show()"
   ]
  },
  {
   "cell_type": "markdown",
   "metadata": {},
   "source": [
    "## Query 8: Location Performance by City"
   ]
  },
  {
   "cell_type": "code",
   "execution_count": null,
   "metadata": {},
   "source": [
    "query8 = \"\"\"\n",
    "SELECT \n",
    "    city, \n",
    "    state, \n",
    "    COUNT(*) as num_locations,\n",
    "    SUM(total_transactions) as total_transactions,\n",
    "    SUM(total_revenue) as total_revenue,\n",
    "    AVG(avg_transaction_amount) as avg_transaction_amount\n",
    "FROM \n",
    "    location_metrics\n",
    "GROUP BY \n",
    "    city, state\n",
    "ORDER BY \n",
    "    total_revenue DESC\n",
    "LIMIT 15\n",
    "\"\"\"\n",
    "\n",
    "city_performance = run_athena_query(query8, database_name, s3_output)\n",
    "city_performance"
   ]
  },
  {
   "cell_type": "code",
   "execution_count": null,
   "metadata": {},
   "source": [
    "# Visualize city performance by total revenue\n",
    "plt.figure(figsize=(14, 6))\n",
    "sns.barplot(x='city', y='total_revenue', data=city_performance.head(10))\n",
    "plt.title('Top 10 Cities by Total Revenue')\n",
    "plt.xlabel('City')\n",
    "plt.ylabel('Total Revenue ($)')\n",
    "plt.xticks(rotation=45, ha='right')\n",
    "plt.tight_layout()\n",
    "plt.show()"
   ]
  },
  {
   "cell_type": "markdown",
   "metadata": {},
   "source": [
    "## Summary of Insights\n",
    "\n",
    "Based on the Athena queries and visualizations, here are the key business insights:\n",
    "\n",
    "1. **Top Revenue-Generating Locations**: Identified the highest-performing rental locations by revenue.\n",
    "2. **Vehicle Type Performance**: Analyzed which vehicle types are most popular and generate the most revenue.\n",
    "3. **Top Spending Users**: Identified the most valuable customers based on their spending patterns.\n",
    "4. **Temporal Patterns**: Discovered trends in rental activity by day, hour, and day of week.\n",
    "5. **Brand Performance**: Analyzed which car brands are most profitable and popular.\n",
    "6. **Geographic Insights**: Identified the top-performing cities for car rentals.\n",
    "\n",
    "These insights can help the car rental marketplace optimize inventory allocation, pricing strategies, marketing campaigns, and expansion plans."
   ]
  }
 ],
 "metadata": {
  "kernelspec": {
   "display_name": "Python 3",
   "language": "python",
   "name": "python3"
  },
  "language_info": {
   "codemirror_mode": {
    "name": "ipython",
    "version": 3
   },
   "file_extension": ".py",
   "mimetype": "text/x-python",
   "name": "python",
   "nbconvert_exporter": "python",
   "pygments_lexer": "ipython3",
   "version": "3.8.10"
  }
 },
 "nbformat": 4,
 "nbformat_minor": 4
}
