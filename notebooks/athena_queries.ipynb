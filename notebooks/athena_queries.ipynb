{
 "cells": [
  {
   "cell_type": "markdown",
   "metadata": {},
   "source": [
    "# Analyzing Car Rental Data with Amazon Athena\n",
    "\n",
    "This notebook demonstrates how to use Amazon Athena to query the processed car rental data that has been cataloged by AWS Glue."
   ]
  },
  {
   "cell_type": "code",
   "execution_count": 2,
   "metadata": {},
   "outputs": [],
   "source": [
    "import boto3\n",
    "import pandas as pd\n",
    "import matplotlib.pyplot as plt\n",
    "import seaborn as sns\n",
    "import time\n",
    "import os\n",
    "import sys\n",
    "\n",
    "# Add the project root directory to the Python path\n",
    "sys.path.append(\"..\")\n",
    "\n",
    "# Import project configuration\n",
    "from config.aws_config import GLUE_CONFIG, S3_CONFIG, AWS_REGION\n",
    "\n",
    "# Set plot style\n",
    "plt.style.use(\"ggplot\")\n",
    "sns.set(style=\"whitegrid\")\n",
    "\n",
    "# Configure pandas display options\n",
    "pd.set_option(\"display.max_columns\", None)\n",
    "pd.set_option(\"display.max_rows\", 20)\n",
    "pd.set_option(\"display.width\", 1000)"
   ]
  },
  {
   "cell_type": "markdown",
   "metadata": {},
   "source": [
    "## Set Up Athena Client"
   ]
  },
  {
   "cell_type": "code",
   "execution_count": 9,
   "metadata": {},
   "outputs": [],
   "source": [
    "def run_athena_query(query: str, database: str, s3_output: str) -> pd.DataFrame:\n",
    "    \"\"\"\n",
    "    Run a query on Athena and return the results as a pandas DataFrame.\n",
    "\n",
    "    Args:\n",
    "        query (str): The SQL query to run\n",
    "        database (str): The Athena database to query\n",
    "        s3_output (str): The S3 location to store query results\n",
    "\n",
    "    Returns:\n",
    "        DataFrame: The query results as a pandas DataFrame\n",
    "    \"\"\"\n",
    "    athena_client = boto3.client(\"athena\", region_name=AWS_REGION)\n",
    "    s3_client = boto3.client(\"s3\", region_name=AWS_REGION)\n",
    "\n",
    "    # Start the query execution\n",
    "    response = athena_client.start_query_execution(\n",
    "        QueryString=query,\n",
    "        QueryExecutionContext={\"Database\": database},\n",
    "        ResultConfiguration={\"OutputLocation\": s3_output},\n",
    "    )\n",
    "\n",
    "    query_execution_id = response[\"QueryExecutionId\"]\n",
    "    print(f\"Query execution ID: {query_execution_id}\")\n",
    "\n",
    "    # Wait for the query to complete\n",
    "    state = \"RUNNING\"\n",
    "    while state in [\"RUNNING\", \"QUEUED\"]:\n",
    "        response = athena_client.get_query_execution(\n",
    "            QueryExecutionId=query_execution_id\n",
    "        )\n",
    "        state = response[\"QueryExecution\"][\"Status\"][\"State\"]\n",
    "\n",
    "        if state in [\"RUNNING\", \"QUEUED\"]:\n",
    "            print(f\"Query is {state}. Waiting...\")\n",
    "            time.sleep(5)\n",
    "\n",
    "    # Check if the query succeeded\n",
    "    if state == \"SUCCEEDED\":\n",
    "        print(\"Query succeeded!\")\n",
    "\n",
    "        # Get the results\n",
    "        result_file = f\"{s3_output.rstrip('/')}/{query_execution_id}.csv\"\n",
    "        bucket_name = result_file.split(\"//\")[1].split(\"/\")[0]\n",
    "        key = \"/\".join(result_file.split(\"//\")[1].split(\"/\")[1:])\n",
    "\n",
    "        # Download the results\n",
    "        local_file = \"athena_query_result.csv\"\n",
    "        s3_client.download_file(bucket_name, key, local_file)\n",
    "\n",
    "        # Load the results into a DataFrame\n",
    "        df = pd.read_csv(local_file)\n",
    "\n",
    "        # Clean up the local file\n",
    "        os.remove(local_file)\n",
    "\n",
    "        return df\n",
    "    else:\n",
    "        error_message = response[\"QueryExecution\"][\"Status\"].get(\n",
    "            \"StateChangeReason\", \"Unknown error\"\n",
    "        )\n",
    "        print(f\"Query failed: {error_message}\")\n",
    "        return None\n"
   ]
  },
  {
   "cell_type": "code",
   "execution_count": 10,
   "metadata": {},
   "outputs": [
    {
     "name": "stdout",
     "output_type": "stream",
     "text": [
      "Running Athena query to get total number of rentals by vehicle type...\n",
      "Database:  car_rental_db\n",
      "S3 Output:  s3://emr-car-rental-data-lake/temp/athena_results/\n"
     ]
    }
   ],
   "source": [
    "# Set up Athena query parameters\n",
    "database_name = GLUE_CONFIG[\"database_name\"]\n",
    "s3_output = (\n",
    "    f\"s3://{S3_CONFIG['bucket_name']}/{S3_CONFIG['temp_data_prefix']}athena_results/\"\n",
    ")\n",
    "\n",
    "print(\"Running Athena query to get total number of rentals by vehicle type...\")\n",
    "print(\"Database: \", database_name)\n",
    "print(\"S3 Output: \", s3_output)\n"
   ]
  },
  {
   "cell_type": "markdown",
   "metadata": {},
   "source": [
    "## Query 1: Highest Revenue-Generating Locations"
   ]
  },
  {
   "cell_type": "code",
   "execution_count": 5,
   "metadata": {},
   "outputs": [
    {
     "name": "stderr",
     "output_type": "stream",
     "text": [
      "2025-04-16 11:42:15 - INFO - Found credentials in environment variables.\n"
     ]
    },
    {
     "name": "stdout",
     "output_type": "stream",
     "text": [
      "Query execution ID: 65165c35-676b-4745-a2d9-14f82b1a1103\n",
      "Query is QUEUED. Waiting...\n",
      "Query succeeded!\n"
     ]
    },
    {
     "data": {
      "application/vnd.microsoft.datawrangler.viewer.v0+json": {
       "columns": [
        {
         "name": "index",
         "rawType": "int64",
         "type": "integer"
        },
        {
         "name": "location_id",
         "rawType": "int64",
         "type": "integer"
        },
        {
         "name": "location_name",
         "rawType": "object",
         "type": "string"
        },
        {
         "name": "city",
         "rawType": "object",
         "type": "string"
        },
        {
         "name": "state",
         "rawType": "object",
         "type": "string"
        },
        {
         "name": "total_revenue",
         "rawType": "float64",
         "type": "float"
        }
       ],
       "conversionMethod": "pd.DataFrame",
       "ref": "61fbd790-6e81-4f2a-bb54-05e3b0366b7b",
       "rows": [
        [
         "0",
         "1761",
         "Collins LLC",
         "Irvine",
         "CA",
         "148670.0"
        ],
        [
         "1",
         "6363",
         "Goodwin-Young",
         "Oceanside",
         "CA",
         "141940.0"
        ],
        [
         "2",
         "2268",
         "Gordon, Marshall and Snyder",
         "Corona",
         "CA",
         "139510.0"
        ],
        [
         "3",
         "7676",
         "Lee, Williams and Rocha",
         "Hayward",
         "CA",
         "136110.0"
        ],
        [
         "4",
         "4380",
         "Bean LLC",
         "Fontana",
         "CA",
         "135090.0"
        ],
        [
         "5",
         "9536",
         "Brown Ltd",
         "Irvine",
         "CA",
         "134380.0"
        ],
        [
         "6",
         "9853",
         "Rogers-Joyce",
         "Stockton",
         "CA",
         "134100.0"
        ],
        [
         "7",
         "8573",
         "Jefferson-Bryan",
         "Elk Grove",
         "CA",
         "133590.0"
        ],
        [
         "8",
         "4856",
         "Jones, Ponce and Mccall",
         "Escondido",
         "CA",
         "132650.0"
        ],
        [
         "9",
         "2363",
         "Bonilla-James",
         "Salinas",
         "CA",
         "132140.0"
        ]
       ],
       "shape": {
        "columns": 5,
        "rows": 10
       }
      },
      "text/html": [
       "<div>\n",
       "<style scoped>\n",
       "    .dataframe tbody tr th:only-of-type {\n",
       "        vertical-align: middle;\n",
       "    }\n",
       "\n",
       "    .dataframe tbody tr th {\n",
       "        vertical-align: top;\n",
       "    }\n",
       "\n",
       "    .dataframe thead th {\n",
       "        text-align: right;\n",
       "    }\n",
       "</style>\n",
       "<table border=\"1\" class=\"dataframe\">\n",
       "  <thead>\n",
       "    <tr style=\"text-align: right;\">\n",
       "      <th></th>\n",
       "      <th>location_id</th>\n",
       "      <th>location_name</th>\n",
       "      <th>city</th>\n",
       "      <th>state</th>\n",
       "      <th>total_revenue</th>\n",
       "    </tr>\n",
       "  </thead>\n",
       "  <tbody>\n",
       "    <tr>\n",
       "      <th>0</th>\n",
       "      <td>1761</td>\n",
       "      <td>Collins LLC</td>\n",
       "      <td>Irvine</td>\n",
       "      <td>CA</td>\n",
       "      <td>148670.0</td>\n",
       "    </tr>\n",
       "    <tr>\n",
       "      <th>1</th>\n",
       "      <td>6363</td>\n",
       "      <td>Goodwin-Young</td>\n",
       "      <td>Oceanside</td>\n",
       "      <td>CA</td>\n",
       "      <td>141940.0</td>\n",
       "    </tr>\n",
       "    <tr>\n",
       "      <th>2</th>\n",
       "      <td>2268</td>\n",
       "      <td>Gordon, Marshall and Snyder</td>\n",
       "      <td>Corona</td>\n",
       "      <td>CA</td>\n",
       "      <td>139510.0</td>\n",
       "    </tr>\n",
       "    <tr>\n",
       "      <th>3</th>\n",
       "      <td>7676</td>\n",
       "      <td>Lee, Williams and Rocha</td>\n",
       "      <td>Hayward</td>\n",
       "      <td>CA</td>\n",
       "      <td>136110.0</td>\n",
       "    </tr>\n",
       "    <tr>\n",
       "      <th>4</th>\n",
       "      <td>4380</td>\n",
       "      <td>Bean LLC</td>\n",
       "      <td>Fontana</td>\n",
       "      <td>CA</td>\n",
       "      <td>135090.0</td>\n",
       "    </tr>\n",
       "    <tr>\n",
       "      <th>5</th>\n",
       "      <td>9536</td>\n",
       "      <td>Brown Ltd</td>\n",
       "      <td>Irvine</td>\n",
       "      <td>CA</td>\n",
       "      <td>134380.0</td>\n",
       "    </tr>\n",
       "    <tr>\n",
       "      <th>6</th>\n",
       "      <td>9853</td>\n",
       "      <td>Rogers-Joyce</td>\n",
       "      <td>Stockton</td>\n",
       "      <td>CA</td>\n",
       "      <td>134100.0</td>\n",
       "    </tr>\n",
       "    <tr>\n",
       "      <th>7</th>\n",
       "      <td>8573</td>\n",
       "      <td>Jefferson-Bryan</td>\n",
       "      <td>Elk Grove</td>\n",
       "      <td>CA</td>\n",
       "      <td>133590.0</td>\n",
       "    </tr>\n",
       "    <tr>\n",
       "      <th>8</th>\n",
       "      <td>4856</td>\n",
       "      <td>Jones, Ponce and Mccall</td>\n",
       "      <td>Escondido</td>\n",
       "      <td>CA</td>\n",
       "      <td>132650.0</td>\n",
       "    </tr>\n",
       "    <tr>\n",
       "      <th>9</th>\n",
       "      <td>2363</td>\n",
       "      <td>Bonilla-James</td>\n",
       "      <td>Salinas</td>\n",
       "      <td>CA</td>\n",
       "      <td>132140.0</td>\n",
       "    </tr>\n",
       "  </tbody>\n",
       "</table>\n",
       "</div>"
      ],
      "text/plain": [
       "   location_id                location_name       city state  total_revenue\n",
       "0         1761                  Collins LLC     Irvine    CA       148670.0\n",
       "1         6363                Goodwin-Young  Oceanside    CA       141940.0\n",
       "2         2268  Gordon, Marshall and Snyder     Corona    CA       139510.0\n",
       "3         7676      Lee, Williams and Rocha    Hayward    CA       136110.0\n",
       "4         4380                     Bean LLC    Fontana    CA       135090.0\n",
       "5         9536                    Brown Ltd     Irvine    CA       134380.0\n",
       "6         9853                 Rogers-Joyce   Stockton    CA       134100.0\n",
       "7         8573              Jefferson-Bryan  Elk Grove    CA       133590.0\n",
       "8         4856      Jones, Ponce and Mccall  Escondido    CA       132650.0\n",
       "9         2363                Bonilla-James    Salinas    CA       132140.0"
      ]
     },
     "execution_count": 5,
     "metadata": {},
     "output_type": "execute_result"
    }
   ],
   "source": [
    "query1 = \"\"\"\n",
    "SELECT \n",
    "    location_id, \n",
    "    location_name, \n",
    "    city, \n",
    "    state, \n",
    "    total_revenue\n",
    "FROM \n",
    "    location_metrics\n",
    "ORDER BY \n",
    "    total_revenue DESC\n",
    "LIMIT 10\n",
    "\"\"\"\n",
    "\n",
    "top_revenue_locations = run_athena_query(query1, database_name, s3_output)\n",
    "top_revenue_locations"
   ]
  },
  {
   "cell_type": "code",
   "execution_count": null,
   "metadata": {},
   "outputs": [
    {
     "data": {
      "image/png": "[encoded data removed]",
      "text/plain": [
       "<Figure size 1400x600 with 1 Axes>"
      ]
     },
     "metadata": {},
     "output_type": "display_data"
    }
   ],
   "source": [
    "# Visualize top revenue-generating locations\n",
    "plt.figure(figsize=(14, 6))\n",
    "sns.barplot(x=\"location_name\", y=\"total_revenue\", data=top_revenue_locations)\n",
    "plt.title(\"Top 10 Revenue-Generating Locations\")\n",
    "plt.xlabel(\"Location\")\n",
    "plt.ylabel(\"Total Revenue ($)\")\n",
    "plt.xticks(rotation=45, ha=\"right\")\n",
    "plt.tight_layout()\n",
    "plt.show()"
   ]
  },
  {
   "cell_type": "markdown",
   "metadata": {},
   "source": [
    "## Query 2: Most Rented Vehicle Types"
   ]
  },
  {
   "cell_type": "code",
   "execution_count": 11,
   "metadata": {},
   "outputs": [
    {
     "name": "stdout",
     "output_type": "stream",
     "text": [
      "Query execution ID: 9e911115-da14-4098-a2c3-4ecc944ed2a5\n",
      "Query is QUEUED. Waiting...\n",
      "Query succeeded!\n"
     ]
    },
    {
     "data": {
      "application/vnd.microsoft.datawrangler.viewer.v0+json": {
       "columns": [
        {
         "name": "index",
         "rawType": "int64",
         "type": "integer"
        },
        {
         "name": "vehicle_type",
         "rawType": "object",
         "type": "string"
        },
        {
         "name": "total_rentals",
         "rawType": "int64",
         "type": "integer"
        },
        {
         "name": "total_revenue",
         "rawType": "float64",
         "type": "float"
        },
        {
         "name": "avg_rental_amount",
         "rawType": "float64",
         "type": "float"
        },
        {
         "name": "avg_rental_duration_hours",
         "rawType": "float64",
         "type": "float"
        }
       ],
       "conversionMethod": "pd.DataFrame",
       "ref": "441600d0-178b-46b1-af1e-9d6b723decfb",
       "rows": [
        [
         "0",
         "premium",
         "8139",
         "5899420.0",
         "724.83",
         "36.24"
        ],
        [
         "1",
         "basic",
         "7931",
         "2902650.0",
         "365.99",
         "36.6"
        ],
        [
         "2",
         "high_end",
         "4010",
         "7398550.0",
         "1845.02",
         "36.9"
        ]
       ],
       "shape": {
        "columns": 5,
        "rows": 3
       }
      },
      "text/html": [
       "<div>\n",
       "<style scoped>\n",
       "    .dataframe tbody tr th:only-of-type {\n",
       "        vertical-align: middle;\n",
       "    }\n",
       "\n",
       "    .dataframe tbody tr th {\n",
       "        vertical-align: top;\n",
       "    }\n",
       "\n",
       "    .dataframe thead th {\n",
       "        text-align: right;\n",
       "    }\n",
       "</style>\n",
       "<table border=\"1\" class=\"dataframe\">\n",
       "  <thead>\n",
       "    <tr style=\"text-align: right;\">\n",
       "      <th></th>\n",
       "      <th>vehicle_type</th>\n",
       "      <th>total_rentals</th>\n",
       "      <th>total_revenue</th>\n",
       "      <th>avg_rental_amount</th>\n",
       "      <th>avg_rental_duration_hours</th>\n",
       "    </tr>\n",
       "  </thead>\n",
       "  <tbody>\n",
       "    <tr>\n",
       "      <th>0</th>\n",
       "      <td>premium</td>\n",
       "      <td>8139</td>\n",
       "      <td>5899420.0</td>\n",
       "      <td>724.83</td>\n",
       "      <td>36.24</td>\n",
       "    </tr>\n",
       "    <tr>\n",
       "      <th>1</th>\n",
       "      <td>basic</td>\n",
       "      <td>7931</td>\n",
       "      <td>2902650.0</td>\n",
       "      <td>365.99</td>\n",
       "      <td>36.60</td>\n",
       "    </tr>\n",
       "    <tr>\n",
       "      <th>2</th>\n",
       "      <td>high_end</td>\n",
       "      <td>4010</td>\n",
       "      <td>7398550.0</td>\n",
       "      <td>1845.02</td>\n",
       "      <td>36.90</td>\n",
       "    </tr>\n",
       "  </tbody>\n",
       "</table>\n",
       "</div>"
      ],
      "text/plain": [
       "  vehicle_type  total_rentals  total_revenue  avg_rental_amount  avg_rental_duration_hours\n",
       "0      premium           8139      5899420.0             724.83                      36.24\n",
       "1        basic           7931      2902650.0             365.99                      36.60\n",
       "2     high_end           4010      7398550.0            1845.02                      36.90"
      ]
     },
     "execution_count": 11,
     "metadata": {},
     "output_type": "execute_result"
    }
   ],
   "source": [
    "query2 = \"\"\"\n",
    "SELECT \n",
    "    vehicle_type, \n",
    "    total_rentals, \n",
    "    total_revenue, \n",
    "    avg_rental_amount,\n",
    "    avg_rental_duration_hours\n",
    "FROM \n",
    "    vehicle_type_metrics\n",
    "ORDER BY \n",
    "    total_rentals DESC\n",
    "\"\"\"\n",
    "\n",
    "vehicle_type_rentals = run_athena_query(query2, database_name, s3_output)\n",
    "vehicle_type_rentals"
   ]
  },
  {
   "cell_type": "code",
   "execution_count": 12,
   "metadata": {},
   "outputs": [
    {
     "data": {
      "image/png": "[encoded data removed]",
      "text/plain": [
       "<Figure size 1400x600 with 1 Axes>"
      ]
     },
     "metadata": {},
     "output_type": "display_data"
    },
    {
     "data": {
      "image/png": "[encoded data removed]",
      "text/plain": [
       "<Figure size 1400x600 with 1 Axes>"
      ]
     },
     "metadata": {},
     "output_type": "display_data"
    }
   ],
   "source": [
    "# Visualize vehicle type rentals\n",
    "plt.figure(figsize=(14, 6))\n",
    "sns.barplot(x=\"vehicle_type\", y=\"total_rentals\", data=vehicle_type_rentals)\n",
    "plt.title(\"Total Rentals by Vehicle Type\")\n",
    "plt.xlabel(\"Vehicle Type\")\n",
    "plt.ylabel(\"Total Rentals\")\n",
    "plt.xticks(rotation=45)\n",
    "plt.tight_layout()\n",
    "plt.show()\n",
    "\n",
    "# Visualize average rental amount by vehicle type\n",
    "plt.figure(figsize=(14, 6))\n",
    "sns.barplot(x=\"vehicle_type\", y=\"avg_rental_amount\", data=vehicle_type_rentals)\n",
    "plt.title(\"Average Rental Amount by Vehicle Type\")\n",
    "plt.xlabel(\"Vehicle Type\")\n",
    "plt.ylabel(\"Average Rental Amount ($)\")\n",
    "plt.xticks(rotation=45)\n",
    "plt.tight_layout()\n",
    "plt.show()"
   ]
  },
  {
   "cell_type": "markdown",
   "metadata": {},
   "source": [
    "## Query 3: Top-Spending Users"
   ]
  },
  {
   "cell_type": "code",
   "execution_count": 14,
   "metadata": {},
   "outputs": [
    {
     "name": "stdout",
     "output_type": "stream",
     "text": [
      "Query execution ID: 03dd7ded-c114-4a94-9461-b79d937625d5\n",
      "Query is QUEUED. Waiting...\n",
      "Query failed: TABLE_NOT_FOUND: line 10:5: Table 'awsdatacatalog.car_rental_db.user_metrics' does not exist\n"
     ]
    }
   ],
   "source": [
    "query3 = \"\"\"\n",
    "SELECT \n",
    "    user_id, \n",
    "    first_name, \n",
    "    last_name, \n",
    "    total_spent, \n",
    "    total_rentals, \n",
    "    avg_rental_amount,\n",
    "    spending_category\n",
    "FROM \n",
    "    user_metrics\n",
    "WHERE \n",
    "    spending_category = 'Top Spender'\n",
    "ORDER BY \n",
    "    total_spent DESC\n",
    "LIMIT 20\n",
    "\"\"\"\n",
    "\n",
    "top_spending_users = run_athena_query(query3, database_name, s3_output)\n",
    "top_spending_users"
   ]
  },
  {
   "cell_type": "code",
   "execution_count": null,
   "metadata": {},
   "outputs": [],
   "source": [
    "# Visualize top spending users\n",
    "plt.figure(figsize=(14, 6))\n",
    "sns.barplot(x=\"user_id\", y=\"total_spent\", data=top_spending_users.head(10))\n",
    "plt.title(\"Top 10 Spending Users\")\n",
    "plt.xlabel(\"User ID\")\n",
    "plt.ylabel(\"Total Spent ($)\")\n",
    "plt.xticks(rotation=45, ha=\"right\")\n",
    "plt.tight_layout()\n",
    "plt.show()"
   ]
  },
  {
   "cell_type": "markdown",
   "metadata": {},
   "source": [
    "## Query 4: Daily Transaction Trends"
   ]
  },
  {
   "cell_type": "code",
   "execution_count": 15,
   "metadata": {},
   "outputs": [
    {
     "name": "stdout",
     "output_type": "stream",
     "text": [
      "Query execution ID: 47dfcf0a-7b7f-4ce1-908d-0fe319441394\n",
      "Query is QUEUED. Waiting...\n",
      "Query failed: TABLE_NOT_FOUND: line 8:5: Table 'awsdatacatalog.car_rental_db.daily_metrics' does not exist\n"
     ]
    }
   ],
   "source": [
    "query4 = \"\"\"\n",
    "SELECT \n",
    "    rental_date, \n",
    "    total_transactions, \n",
    "    total_revenue, \n",
    "    avg_transaction_amount,\n",
    "    unique_users\n",
    "FROM \n",
    "    daily_metrics\n",
    "ORDER BY \n",
    "    rental_date\n",
    "\"\"\"\n",
    "\n",
    "daily_trends = run_athena_query(query4, database_name, s3_output)\n",
    "daily_trends"
   ]
  },
  {
   "cell_type": "code",
   "execution_count": 16,
   "metadata": {},
   "outputs": [
    {
     "ename": "TypeError",
     "evalue": "'NoneType' object is not subscriptable",
     "output_type": "error",
     "traceback": [
      "\u001b[31m---------------------------------------------------------------------------\u001b[39m",
      "\u001b[31mTypeError\u001b[39m                                 Traceback (most recent call last)",
      "\u001b[36mCell\u001b[39m\u001b[36m \u001b[39m\u001b[32mIn[16]\u001b[39m\u001b[32m, line 2\u001b[39m\n\u001b[32m      1\u001b[39m \u001b[38;5;66;03m# Convert rental_date to datetime\u001b[39;00m\n\u001b[32m----> \u001b[39m\u001b[32m2\u001b[39m daily_trends[\u001b[33m\"\u001b[39m\u001b[33mrental_date\u001b[39m\u001b[33m\"\u001b[39m] = pd.to_datetime(\u001b[43mdaily_trends\u001b[49m\u001b[43m[\u001b[49m\u001b[33;43m\"\u001b[39;49m\u001b[33;43mrental_date\u001b[39;49m\u001b[33;43m\"\u001b[39;49m\u001b[43m]\u001b[49m)\n\u001b[32m      4\u001b[39m \u001b[38;5;66;03m# Visualize daily transaction trends\u001b[39;00m\n\u001b[32m      5\u001b[39m plt.figure(figsize=(\u001b[32m14\u001b[39m, \u001b[32m6\u001b[39m))\n",
      "\u001b[31mTypeError\u001b[39m: 'NoneType' object is not subscriptable"
     ]
    }
   ],
   "source": [
    "# Convert rental_date to datetime\n",
    "daily_trends[\"rental_date\"] = pd.to_datetime(daily_trends[\"rental_date\"])\n",
    "\n",
    "# Visualize daily transaction trends\n",
    "plt.figure(figsize=(14, 6))\n",
    "plt.plot(\n",
    "    daily_trends[\"rental_date\"],\n",
    "    daily_trends[\"total_transactions\"],\n",
    "    marker=\"o\",\n",
    "    linestyle=\"-\",\n",
    ")\n",
    "plt.title(\"Daily Transaction Trends\")\n",
    "plt.xlabel(\"Date\")\n",
    "plt.ylabel(\"Total Transactions\")\n",
    "plt.grid(True)\n",
    "plt.tight_layout()\n",
    "plt.show()\n",
    "\n",
    "# Visualize daily revenue trends\n",
    "plt.figure(figsize=(14, 6))\n",
    "plt.plot(\n",
    "    daily_trends[\"rental_date\"],\n",
    "    daily_trends[\"total_revenue\"],\n",
    "    marker=\"o\",\n",
    "    linestyle=\"-\",\n",
    "    color=\"green\",\n",
    ")\n",
    "plt.title(\"Daily Revenue Trends\")\n",
    "plt.xlabel(\"Date\")\n",
    "plt.ylabel(\"Total Revenue ($)\")\n",
    "plt.grid(True)\n",
    "plt.tight_layout()\n",
    "plt.show()"
   ]
  },
  {
   "cell_type": "markdown",
   "metadata": {},
   "source": [
    "## Query 5: Transaction Patterns by Hour of Day"
   ]
  },
  {
   "cell_type": "code",
   "execution_count": 17,
   "metadata": {},
   "outputs": [
    {
     "name": "stdout",
     "output_type": "stream",
     "text": [
      "Query execution ID: c514865d-65f8-4bcc-b374-f5ffee5d01ba\n",
      "Query is QUEUED. Waiting...\n",
      "Query failed: TABLE_NOT_FOUND: line 7:5: Table 'awsdatacatalog.car_rental_db.hourly_metrics' does not exist\n"
     ]
    }
   ],
   "source": [
    "query5 = \"\"\"\n",
    "SELECT \n",
    "    hour_of_day, \n",
    "    total_transactions, \n",
    "    total_revenue, \n",
    "    avg_transaction_amount\n",
    "FROM \n",
    "    hourly_metrics\n",
    "ORDER BY \n",
    "    hour_of_day\n",
    "\"\"\"\n",
    "\n",
    "hourly_patterns = run_athena_query(query5, database_name, s3_output)\n",
    "hourly_patterns"
   ]
  },
  {
   "cell_type": "code",
   "execution_count": null,
   "metadata": {},
   "outputs": [],
   "source": [
    "# Visualize hourly transaction patterns\n",
    "plt.figure(figsize=(14, 6))\n",
    "plt.plot(\n",
    "    hourly_patterns[\"hour_of_day\"],\n",
    "    hourly_patterns[\"total_transactions\"],\n",
    "    marker=\"o\",\n",
    "    linestyle=\"-\",\n",
    ")\n",
    "plt.title(\"Transaction Patterns by Hour of Day\")\n",
    "plt.xlabel(\"Hour of Day\")\n",
    "plt.ylabel(\"Total Transactions\")\n",
    "plt.xticks(range(0, 24))\n",
    "plt.grid(True)\n",
    "plt.tight_layout()\n",
    "plt.show()"
   ]
  },
  {
   "cell_type": "markdown",
   "metadata": {},
   "source": [
    "## Query 6: Transaction Patterns by Day of Week"
   ]
  },
  {
   "cell_type": "code",
   "execution_count": null,
   "metadata": {},
   "outputs": [],
   "source": [
    "query6 = \"\"\"\n",
    "SELECT \n",
    "    day_of_week, \n",
    "    total_transactions, \n",
    "    total_revenue, \n",
    "    avg_transaction_amount\n",
    "FROM \n",
    "    day_of_week_metrics\n",
    "ORDER BY \n",
    "    day_of_week\n",
    "\"\"\"\n",
    "\n",
    "day_of_week_patterns = run_athena_query(query6, database_name, s3_output)\n",
    "day_of_week_patterns"
   ]
  },
  {
   "cell_type": "code",
   "execution_count": null,
   "metadata": {},
   "outputs": [],
   "source": [
    "# Map day_of_week numbers to names\n",
    "day_names = {\n",
    "    1: \"Monday\",\n",
    "    2: \"Tuesday\",\n",
    "    3: \"Wednesday\",\n",
    "    4: \"Thursday\",\n",
    "    5: \"Friday\",\n",
    "    6: \"Saturday\",\n",
    "    7: \"Sunday\",\n",
    "}\n",
    "day_of_week_patterns[\"day_name\"] = day_of_week_patterns[\"day_of_week\"].map(day_names)\n",
    "\n",
    "# Visualize day of week transaction patterns\n",
    "plt.figure(figsize=(14, 6))\n",
    "sns.barplot(x=\"day_name\", y=\"total_transactions\", data=day_of_week_patterns)\n",
    "plt.title(\"Transaction Patterns by Day of Week\")\n",
    "plt.xlabel(\"Day of Week\")\n",
    "plt.ylabel(\"Total Transactions\")\n",
    "plt.tight_layout()\n",
    "plt.show()"
   ]
  },
  {
   "cell_type": "markdown",
   "metadata": {},
   "source": [
    "## Query 7: Brand Performance Analysis"
   ]
  },
  {
   "cell_type": "code",
   "execution_count": null,
   "metadata": {},
   "outputs": [],
   "source": [
    "query7 = \"\"\"\n",
    "SELECT \n",
    "    brand, \n",
    "    total_rentals, \n",
    "    total_revenue, \n",
    "    avg_rental_amount,\n",
    "    unique_vehicles\n",
    "FROM \n",
    "    brand_metrics\n",
    "ORDER BY \n",
    "    total_revenue DESC\n",
    "LIMIT 15\n",
    "\"\"\"\n",
    "\n",
    "brand_performance = run_athena_query(query7, database_name, s3_output)\n",
    "brand_performance"
   ]
  },
  {
   "cell_type": "code",
   "execution_count": null,
   "metadata": {},
   "outputs": [],
   "source": [
    "# Visualize brand performance by total revenue\n",
    "plt.figure(figsize=(14, 6))\n",
    "sns.barplot(x=\"brand\", y=\"total_revenue\", data=brand_performance.head(10))\n",
    "plt.title(\"Top 10 Brands by Total Revenue\")\n",
    "plt.xlabel(\"Brand\")\n",
    "plt.ylabel(\"Total Revenue ($)\")\n",
    "plt.xticks(rotation=45, ha=\"right\")\n",
    "plt.tight_layout()\n",
    "plt.show()\n",
    "\n",
    "# Visualize brand performance by average rental amount\n",
    "plt.figure(figsize=(14, 6))\n",
    "sns.barplot(x=\"brand\", y=\"avg_rental_amount\", data=brand_performance.head(10))\n",
    "plt.title(\"Top 10 Brands by Average Rental Amount\")\n",
    "plt.xlabel(\"Brand\")\n",
    "plt.ylabel(\"Average Rental Amount ($)\")\n",
    "plt.xticks(rotation=45, ha=\"right\")\n",
    "plt.tight_layout()\n",
    "plt.show()"
   ]
  },
  {
   "cell_type": "markdown",
   "metadata": {},
   "source": [
    "## Query 8: Location Performance by City"
   ]
  },
  {
   "cell_type": "code",
   "execution_count": null,
   "metadata": {},
   "outputs": [],
   "source": [
    "query8 = \"\"\"\n",
    "SELECT \n",
    "    city, \n",
    "    state, \n",
    "    COUNT(*) as num_locations,\n",
    "    SUM(total_transactions) as total_transactions,\n",
    "    SUM(total_revenue) as total_revenue,\n",
    "    AVG(avg_transaction_amount) as avg_transaction_amount\n",
    "FROM \n",
    "    location_metrics\n",
    "GROUP BY \n",
    "    city, state\n",
    "ORDER BY \n",
    "    total_revenue DESC\n",
    "LIMIT 15\n",
    "\"\"\"\n",
    "\n",
    "city_performance = run_athena_query(query8, database_name, s3_output)\n",
    "city_performance"
   ]
  },
  {
   "cell_type": "code",
   "execution_count": null,
   "metadata": {},
   "outputs": [],
   "source": [
    "# Visualize city performance by total revenue\n",
    "plt.figure(figsize=(14, 6))\n",
    "sns.barplot(x=\"city\", y=\"total_revenue\", data=city_performance.head(10))\n",
    "plt.title(\"Top 10 Cities by Total Revenue\")\n",
    "plt.xlabel(\"City\")\n",
    "plt.ylabel(\"Total Revenue ($)\")\n",
    "plt.xticks(rotation=45, ha=\"right\")\n",
    "plt.tight_layout()\n",
    "plt.show()"
   ]
  },
  {
   "cell_type": "markdown",
   "metadata": {},
   "source": [
    "## Summary of Insights\n",
    "\n",
    "Based on the Athena queries and visualizations, here are the key business insights:\n",
    "\n",
    "1. **Top Revenue-Generating Locations**: Identified the highest-performing rental locations by revenue.\n",
    "2. **Vehicle Type Performance**: Analyzed which vehicle types are most popular and generate the most revenue.\n",
    "3. **Top Spending Users**: Identified the most valuable customers based on their spending patterns.\n",
    "4. **Temporal Patterns**: Discovered trends in rental activity by day, hour, and day of week.\n",
    "5. **Brand Performance**: Analyzed which car brands are most profitable and popular.\n",
    "6. **Geographic Insights**: Identified the top-performing cities for car rentals.\n",
    "\n",
    "These insights can help the car rental marketplace optimize inventory allocation, pricing strategies, marketing campaigns, and expansion plans."
   ]
  }
 ],
 "metadata": {
  "kernelspec": {
   "display_name": ".venv",
   "language": "python",
   "name": "python3"
  },
  "language_info": {
   "codemirror_mode": {
    "name": "ipython",
    "version": 3
   },
   "file_extension": ".py",
   "mimetype": "text/x-python",
   "name": "python",
   "nbconvert_exporter": "python",
   "pygments_lexer": "ipython3",
   "version": "3.13.2"
  }
 },
 "nbformat": 4,
 "nbformat_minor": 4
}
